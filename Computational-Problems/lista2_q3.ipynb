{
 "cells": [
  {
   "cell_type": "markdown",
   "metadata": {},
   "source": [
    "# Problema 3\n",
    "\n",
    "Esse problema se reduz a um dos problemas da lista anterior. Primeiro veja que para um estimador MAP, o problema se reduz à seguinte expressão:\n",
    "\n",
    "$$\\hat{x}_i = \\arg\\max_{x_i} f_{X|Y}(x_i|y),$$\n",
    "\n",
    "e que para uma distribuição gaussiana chegamos na seguinte expressão:\n",
    "\n",
    "$$\n",
    "\\begin{align*}\n",
    "    \\hat{x} &= \\arg\\max_{x_i} f_{Y|X}(y|x_i)p(x_i)\\\\ \n",
    "     &= \\arg\\max_i p(x_i) \\cdot  \\frac{1}{\\pi N_0}e^{-\\frac{|y-x_i|^2}{N_0}}\\\\\n",
    "     &= \\arg\\max_{x_i} p(x_i) \\cdot e^{-\\frac{|y-x_i|^2}{N_0}}\\\\\n",
    "     &= \\arg\\max_{x_i}\\left[ \\ln(p(x_i)) -\\frac{|y-x_i|^2}{N_0}\\right]\\\\\n",
    "     &= \\arg\\max_{x_i}\\left[ \\frac{N_0}{2}\\ln(p(x_i)) -\\frac{1}{2}|y-x_i|^2\\right]\n",
    "\\end{align*}\n",
    "$$\n",
    "\n",
    "No entanto, no caso dessa questão temos, onde temos que fazer a estimativa ML (ou seja, $p(x_i) = 1/M$), o único fator que importa é o da distância e logo se chega na expressão a seguir:\n",
    "\n",
    "$$\\hat{x}_i = \\arg\\min_{x_i}|y-x_i|^2.$$\n",
    "\n",
    "Fizemos exatamente isso nos problemas da lista anterior, logo podemos facilmente pegar o código emprestado e resolver esse problema."
   ]
  },
  {
   "cell_type": "code",
   "execution_count": 1,
   "metadata": {},
   "outputs": [],
   "source": [
    "import numpy as np\n",
    "import matplotlib.pyplot as plt"
   ]
  },
  {
   "cell_type": "code",
   "execution_count": 2,
   "metadata": {},
   "outputs": [],
   "source": [
    "def QAMModem(M): # gray coding into constellation setup ahead\n",
    "    n=np.arange(0,M) # symbols from 0 to M-1\n",
    "    a=np.asarray([x^(x>>1) for x in n]) # convert linear to gray code\n",
    "    D=np.sqrt(M).astype(int) # dimension of our map\n",
    "    a=np.reshape(a,(D,D)) # slice array on a matrix D x D sized\n",
    "    oddRows=np.arange(start=1,stop=D,step=2) # identify rows to flip\n",
    "    a[oddRows,:]=np.fliplr(a[oddRows,:]) # flip the rows\n",
    "    nGray=np.reshape(a,(M)) # reshape/flatten to 1xM array\n",
    "    (x,y)=np.divmod(nGray,D) # element-wise quotient and remainder\n",
    "    Ax=2*x+1-D\n",
    "    Ay=2*y+1-D\n",
    "    constellation = Ax + 1j*Ay\n",
    "    return constellation\n",
    "\n",
    "def plotConstellation(constellation,M):\n",
    "    from math import log2\n",
    "    fig, axs = plt.subplots(1, 1)\n",
    "    axs.plot(np.real(constellation),np.imag(constellation),'o')\n",
    "    for i in range(0,M):\n",
    "        axs.annotate(\"{0:0{1}b}\".format(i,int(log2(M))),(np.real(constellation[i]),np.imag(constellation[i])))\n",
    "    axs.set_title('Constellation')\n",
    "    axs.set_xlabel('I')\n",
    "    axs.set_ylabel('Q')\n",
    "\n",
    "def modulate(constellation,inputSymbols):\n",
    "    modulatedVec = constellation[inputSymbols]\n",
    "    return modulatedVec \n",
    "\n",
    "def awgn(s, SNRdB):\n",
    "    gamma = 10**(SNRdB/10) #SNR to linear scale\n",
    "    P=np.sum(abs(s)**2)/len(s) # power in the vector -> P=sum (X^{2})/M\n",
    "    N0=P/gamma # noise spectral density\n",
    "    n = np.sqrt(N0/2)*(np.random.randn(len(s)) + 1j*np.random.randn(len(s))) # AWGN with unity power\n",
    "    r = s + n # received signal + noise\n",
    "    return r"
   ]
  },
  {
   "cell_type": "code",
   "execution_count": 3,
   "metadata": {},
   "outputs": [],
   "source": [
    "\n",
    "\n",
    "def demodulate(constellation,receivedSyms):\n",
    "    # received vector and reference in cartesian form\n",
    "    from scipy.spatial.distance import cdist\n",
    "    XA = np.column_stack((np.real(receivedSyms),np.imag(receivedSyms)))\n",
    "    XB = np.column_stack((np.real(constellation),np.imag(constellation)))\n",
    "        \n",
    "    d = cdist(XA,XB,metric='euclidean') #compute pair-wise Euclidean distances\n",
    "    detectedSyms=np.argmin(d,axis=1)#indices corresponding minimum Euclid. dist.\n",
    "    return detectedSyms\n",
    "\n",
    "\n",
    "def decode(demodulatedSyms,constellation):\n",
    "    decodedSyms=np.zeros(len(demodulatedSyms))\n",
    "    for i in np.arange(0,len(demodulatedSyms)):\n",
    "        aux = demodulatedSyms[i]-constellation\n",
    "        decodedSyms[i]=np.abs(aux).argmin()\n",
    "    return decodedSyms"
   ]
  },
  {
   "cell_type": "code",
   "execution_count": 4,
   "metadata": {},
   "outputs": [
    {
     "data": {
      "text/plain": [
       "<matplotlib.legend.Legend at 0x2127f05e7b0>"
      ]
     },
     "execution_count": 4,
     "metadata": {},
     "output_type": "execute_result"
    },
    {
     "data": {
      "image/png": "[encoded data removed]",
      "text/plain": [
       "<Figure size 640x480 with 1 Axes>"
      ]
     },
     "metadata": {},
     "output_type": "display_data"
    }
   ],
   "source": [
    "#---------Input Fields------------------------\n",
    "nSym = np.int64(5e4) # Number of symbols to transmit # also, compile time for 10**6 is over 30s. for a quicker result do either 10**5 or 10**4\n",
    "EbN0dBs = np.arange(start=-20,stop = 15, step = 5) # Eb/N0 range in dB for simulation\n",
    "mod_type = 'QAM'\n",
    "arrayOfM=[4] \n",
    "\n",
    "colors = plt.cm.jet(np.linspace(0,1,len(arrayOfM))) # colormap\n",
    "fig, ax = plt.subplots(nrows=1,ncols = 1)\n",
    "\n",
    "for i, M in enumerate(arrayOfM):\n",
    "    #-----Initialization of various parameters----\n",
    "    k=np.log2(M)\n",
    "    EsN0dBs = 10*np.log10(k)+EbN0dBs # EsN0dB calculation\n",
    "    SER_sim = np.zeros(len(EbN0dBs)) # simulated Symbol error rates\n",
    "    constellation = QAMModem(M)\n",
    "    px = list(np.ones(M)/M) # probabilidade equiprovável\n",
    "    rng = np.random.default_rng()\n",
    "\n",
    "    for j,EsN0dB in enumerate(EsN0dBs):\n",
    "        inputSyms=rng.integers(M, size=nSym)\n",
    "        modulatedSyms = modulate(constellation,inputSyms) #modulate\n",
    "        receivedSyms = awgn(modulatedSyms,EsN0dB) #add awgn noise\n",
    "        detectedSyms=demodulate(constellation,receivedSyms)\n",
    "        \n",
    "        SER_sim[j] = np.sum(detectedSyms != inputSyms)/nSym\n",
    "    \n",
    "    ax.semilogy(EbN0dBs,SER_sim,color = colors[i],marker='s',linestyle='--',label='Sim '+str(M)+'-'+mod_type.upper())\n",
    "\n",
    "\n",
    "ax.set_xlabel('Eb/N0(dB)')\n",
    "ax.set_ylabel('SER ($P_s$)')\n",
    "ax.set_title('Probability of Symbol Error for M-'+str(mod_type)+' over AWGN')\n",
    "ax.legend()\n",
    "#ax.set_ylim(1e-6) # if you don't set the limit it will get goofy. leave this untouched."
   ]
  }
 ],
 "metadata": {
  "kernelspec": {
   "display_name": ".venv",
   "language": "python",
   "name": "python3"
  },
  "language_info": {
   "codemirror_mode": {
    "name": "ipython",
    "version": 3
   },
   "file_extension": ".py",
   "mimetype": "text/x-python",
   "name": "python",
   "nbconvert_exporter": "python",
   "pygments_lexer": "ipython3",
   "version": "3.13.1"
  }
 },
 "nbformat": 4,
 "nbformat_minor": 2
}
