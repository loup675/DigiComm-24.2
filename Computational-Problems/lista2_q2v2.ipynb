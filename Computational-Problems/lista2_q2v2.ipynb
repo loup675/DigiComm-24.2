{
 "cells": [
  {
   "cell_type": "markdown",
   "metadata": {},
   "source": [
    "# Problema 2\n",
    "\n",
    "Questão 9.3 (ed. 2) ou 7.3 (ed. 3) modificada do livro Digital Communication por Edward A. Lee, David G. Messerschmitt (até ed. 2) e John R. Barry (na ed. 3). Assim, é possível verificar o solucionário para assistência na solução. :^)\n",
    "\n",
    "\n",
    "\n",
    "$$\\Omega_{x}=\\left \\{ -3,-1,+1,3\\right \\}$$\n",
    "$$P_{x}=\\left \\{ .2,.3,.3,.2\\right \\}$$\n",
    "$$\\sigma^{2}=.25$$\n",
    "\n",
    "As regiões de decisão são determinadas por três limiares, o do meio sendo zero. Os outros dois podem ser encontrados ao se levar em consideração em que pontoo receiver é indiferente entre a decisão de $\\pm 3$ e $\\pm 1$. Esses pontos podem ser expressos por: \n",
    "\n",
    "$$|y-3|^{2}-2\\sigma^{2} ln(.2)=|y-1|^{2}-2\\sigma^{2} ln(.3)$$\n",
    "\n",
    "$$(y^{2}-6y+9)-(y^{2}-2y+1)=2\\sigma^{2}\\left[ln(.2)-ln(.3)\\right]$$\n",
    "\n",
    "$$-4y+8=\\frac{1}{2}ln\\left(\\frac{2}{3}\\right)$$\n",
    "\n",
    "$$y=-\\frac{1}{4}\\left[-8+\\frac{1}{2}ln\\left(\\frac{2}{3}\\right)\\right]\\approx 2.05$$"
   ]
  },
  {
   "cell_type": "code",
   "execution_count": 1,
   "metadata": {},
   "outputs": [],
   "source": [
    "import numpy as np\n",
    "import matplotlib.pyplot as plt"
   ]
  },
  {
   "cell_type": "code",
   "execution_count": 2,
   "metadata": {},
   "outputs": [],
   "source": [
    "def decisor(x):\n",
    "    ref=(-8+(np.log(.2/.3))/2)/(-4)\n",
    "    if x>0:\n",
    "        if x>ref:\n",
    "            xr=3\n",
    "        elif x<ref:\n",
    "            xr=1\n",
    "    elif x<0:\n",
    "        if x>-ref:\n",
    "            xr=-1\n",
    "        elif x<-ref:\n",
    "            xr=-3\n",
    "    return xr"
   ]
  },
  {
   "cell_type": "code",
   "execution_count": 3,
   "metadata": {},
   "outputs": [
    {
     "data": {
      "text/plain": [
       "-1"
      ]
     },
     "execution_count": 3,
     "metadata": {},
     "output_type": "execute_result"
    }
   ],
   "source": [
    "decisor(-2)\n"
   ]
  },
  {
   "cell_type": "markdown",
   "metadata": {},
   "source": [
    "Nota pessoal: Gastei um bom tempo nesse problema tentando fazer e gastei um bom tempo planejando uma solução. Depois vi que não era muito bem o que o problema queria, já que ela _meio_ que não fazia uso de tudo que o problema dava como dado. Ainda assim, acho ela infinitamente mais interessante que essa solução ¬¬. Tendo isso em mente, vou documentá-la aqui, mas se quiser pode ignorá-la e seguir para a próxima questão."
   ]
  },
  {
   "cell_type": "code",
   "execution_count": 4,
   "metadata": {},
   "outputs": [],
   "source": [
    "def priorp(g,sy):\n",
    "    u=np.zeros(len(sy))\n",
    "    for x in g:\n",
    "        if x==-3:\n",
    "            u[0]+=1\n",
    "        if x==-1:\n",
    "            u[1]+=1\n",
    "        if x==1:\n",
    "            u[2]+=1\n",
    "        if x==3:\n",
    "            u[3]+=1\n",
    "    pr=u/len(g)\n",
    "    return pr\n",
    "\n",
    "def windows(n): # retorna os pontos dos intervalos das janelas ativas\n",
    "    m=[np.int64(0)];\n",
    "    for i in np.arange(0,len(n)-1,1):\n",
    "        if n[i-1]!=0 and n[i]==0 and n[i+1]==0:\n",
    "            m.append(i);\n",
    "        if n[i-1]==0 and n[i]==0 and n[i+1]!=0:\n",
    "            m.append(i);\n",
    "    m.append(np.int64(len(n)))\n",
    "    t=[]\n",
    "    for i in np.arange(1,len(m)-1,2):\n",
    "        t.append(np.floor((m[i]+m[i+1])/2))\n",
    "    v=np.append(np.array([m[0]]), t[:])\n",
    "    v=np.append(v,np.array([m[-1]]))\n",
    "    return v\n",
    "\n",
    "def decision(x,bins,w):\n",
    "    if x>=bins[int(w[0])] and x<bins[int(w[1])]:\n",
    "        xr=a[0]\n",
    "    if x>=bins[int(w[1])] and x<bins[int(w[2])]:\n",
    "        xr=a[1]\n",
    "    if x>=bins[int(w[2])] and x<bins[int(w[3])]:\n",
    "        xr=a[2]\n",
    "    if x>=bins[int(w[3])] and x<=bins[int(w[4])]:\n",
    "        xr=a[3]\n",
    "    return xr"
   ]
  },
  {
   "cell_type": "code",
   "execution_count": 5,
   "metadata": {},
   "outputs": [
    {
     "name": "stdout",
     "output_type": "stream",
     "text": [
      "[ 9. 16. 68. 86. 49. 22.  3.  0.  0.  1.  2. 14. 51. 73. 65. 35. 13.  2.\n",
      "  2.  0.  0.  7. 14. 42. 63. 62. 43.  9.  1.  0.  0.  1.  6. 28. 64. 56.\n",
      " 52. 27. 13.  1.]\n",
      "[ 0.  7. 19. 29. 40.]\n"
     ]
    },
    {
     "data": {
      "image/png": "[encoded data removed]",
      "text/plain": [
       "<Figure size 640x480 with 1 Axes>"
      ]
     },
     "metadata": {},
     "output_type": "display_data"
    }
   ],
   "source": [
    "rng=np.random.default_rng(); # set rng\n",
    "# caso teste\n",
    "#a=[-1,1];\n",
    "#p=[-.5,.5];\n",
    "# caso pedido\n",
    "a=[-3,-1,1,3]\n",
    "p=[.2,.3,.3,.2]\n",
    "s=rng.choice(a,1000,p); # chooses from an array of symbols of specific probabilities\n",
    "#print(priorp(s,a)) # tentativa de visualizar a prior proability dado o que saiu em s\n",
    "n=np.random.normal(0,.25,s.shape) # noise at 0 mean and .5 \n",
    "y=s+n\n",
    "[n,bins,patches]=plt.hist(y,bins=40)\n",
    "print(n)\n",
    "print(windows(n))\n",
    "# com isso consigo achar a [likelihood function]\n",
    "# que, nesse caso, é a variável n do histograma\n",
    "# e onde ela começa e termina pra ser plotada,\n",
    "# caso isso chegue a ser usado (provavelmente vai)"
   ]
  },
  {
   "cell_type": "code",
   "execution_count": 6,
   "metadata": {},
   "outputs": [
    {
     "name": "stdout",
     "output_type": "stream",
     "text": [
      "[ 0.  7. 19. 29. 40.]\n",
      "-1\n"
     ]
    }
   ],
   "source": [
    "w=windows(n)\n",
    "print(w)\n",
    "print(decision(-2,bins,w))"
   ]
  },
  {
   "cell_type": "markdown",
   "metadata": {},
   "source": [
    "Pra tentar explicar rapidamente o que fiz, basicamente tentei encontrar onde cada região começa e termina no histograma, e tirar a média entre os pontos intermediários. Com isso, do começo até o primeiro ponto intermediário (ponto médio entre onde termina o -3 e onde começa o -1, e assim vai) é a região que cobre todos os valores que podem dar -3, assim em diante. Isso é adaptativo para cada transmissão/conjunto de valores que você gera pro sinal e aplica ruído.\n",
    "\n",
    "Ainda que não tenha sido a resposta exata, foi divertido pensar nesse método e desenvolvê-lo. Só queria meu tempo de volta xdx."
   ]
  }
 ],
 "metadata": {
  "kernelspec": {
   "display_name": ".venv",
   "language": "python",
   "name": "python3"
  },
  "language_info": {
   "codemirror_mode": {
    "name": "ipython",
    "version": 3
   },
   "file_extension": ".py",
   "mimetype": "text/x-python",
   "name": "python",
   "nbconvert_exporter": "python",
   "pygments_lexer": "ipython3",
   "version": "3.13.1"
  }
 },
 "nbformat": 4,
 "nbformat_minor": 2
}
